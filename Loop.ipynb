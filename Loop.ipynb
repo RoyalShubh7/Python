{
 "cells": [
  {
   "cell_type": "code",
   "execution_count": 1,
   "metadata": {},
   "outputs": [
    {
     "name": "stdout",
     "output_type": "stream",
     "text": [
      "50\n",
      "60\n",
      "62\n",
      "80\n",
      "62\n",
      "10\n",
      "30\n",
      "63\n",
      "40\n",
      "35\n",
      "12\n",
      "30\n",
      "25\n",
      "98\n",
      "94\n",
      "49\n",
      "78\n",
      "56\n",
      "96\n"
     ]
    }
   ],
   "source": [
    "marks=[50,60,62,80,62,10,30,63,40,35,12,30,25,98,94,49,78,56,96]\n",
    "for shubh in marks:\n",
    "    print(shubh)"
   ]
  },
  {
   "cell_type": "code",
   "execution_count": 2,
   "metadata": {},
   "outputs": [
    {
     "name": "stdout",
     "output_type": "stream",
     "text": [
      "pass\n",
      "pass\n",
      "pass\n",
      "pass\n",
      "pass\n",
      "You are FAIL\n",
      "You are FAIL\n",
      "pass\n",
      "pass\n",
      "pass\n",
      "You are FAIL\n",
      "You are FAIL\n",
      "You are FAIL\n",
      "pass with Double Distinction\n",
      "pass with Double Distinction\n",
      "pass\n",
      "pass\n",
      "pass\n",
      "pass with Double Distinction\n"
     ]
    }
   ],
   "source": [
    "for shubh in marks:\n",
    "    if shubh>80:\n",
    "        if shubh>90:\n",
    "            print(\"pass with Double Distinction\")\n",
    "        else:\n",
    "            print(\"pass with FIRST CLASS\")\n",
    "    elif shubh>70 and shubh<=50:\n",
    "        print(\"pass with second class\")\n",
    "    elif shubh>=35:\n",
    "        print(\"pass\")\n",
    "    else:\n",
    "        print(\"You are FAIL\")\n"
   ]
  },
  {
   "cell_type": "code",
   "execution_count": 3,
   "metadata": {},
   "outputs": [
    {
     "name": "stdout",
     "output_type": "stream",
     "text": [
      "85\n"
     ]
    }
   ],
   "source": [
    "city = input(\"Enter the city name: \")\n",
    "print(city)"
   ]
  },
  {
   "cell_type": "code",
   "execution_count": 4,
   "metadata": {},
   "outputs": [
    {
     "name": "stdout",
     "output_type": "stream",
     "text": [
      "Grade= B+ \n"
     ]
    }
   ],
   "source": [
    "marks = int(input(\"enter your marks: \"))\n",
    "if marks>85:\n",
    "    if marks>90:\n",
    "        print(\"pass with A+\")\n",
    "    else:\n",
    "        print(\"Grade= A\")\n",
    "elif marks<70 or marks>=50:\n",
    "    print('Grade= B+ ')\n",
    "elif marks<=35:\n",
    "    print(\"PASS\")\n",
    "else:\n",
    "    print(\"FAIL : BETTER LUCK NEXT TIME\")\n",
    "\n"
   ]
  },
  {
   "cell_type": "code",
   "execution_count": null,
   "metadata": {},
   "outputs": [],
   "source": []
  },
  {
   "cell_type": "code",
   "execution_count": null,
   "metadata": {},
   "outputs": [],
   "source": []
  }
 ],
 "metadata": {
  "interpreter": {
   "hash": "b3ba2566441a7c06988d0923437866b63cedc61552a5af99d1f4fb67d367b25f"
  },
  "kernelspec": {
   "display_name": "Python 3.9.7 64-bit ('base': conda)",
   "language": "python",
   "name": "python3"
  },
  "language_info": {
   "codemirror_mode": {
    "name": "ipython",
    "version": 3
   },
   "file_extension": ".py",
   "mimetype": "text/x-python",
   "name": "python",
   "nbconvert_exporter": "python",
   "pygments_lexer": "ipython3",
   "version": "3.9.7"
  },
  "orig_nbformat": 4
 },
 "nbformat": 4,
 "nbformat_minor": 2
}
