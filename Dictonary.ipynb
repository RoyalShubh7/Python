{
 "cells": [
  {
   "cell_type": "code",
   "execution_count": 35,
   "id": "26d29f44",
   "metadata": {},
   "outputs": [
    {
     "data": {
      "text/plain": [
       "{'names': ['shubham', 'avadhut', 'ram', 'jay'],\n",
       " 'roll': [10, 20, 30, 40],\n",
       " 'class': ['1st', '2nd', '3rd', '4th'],\n",
       " 'sub': ['science', 'physics', 'chemistry', 'maths']}"
      ]
     },
     "execution_count": 35,
     "metadata": {},
     "output_type": "execute_result"
    }
   ],
   "source": [
    "# creating a dictionary\n",
    "dict={'names':['shubham','avadhut','ram','jay'],'roll':[10,20,30,40],'class':['1st','2nd','3rd','4th'],'sub':['science','physics','chemistry','maths']}\n",
    "dict"
   ]
  },
  {
   "cell_type": "code",
   "execution_count": 36,
   "id": "8a21f123",
   "metadata": {},
   "outputs": [
    {
     "data": {
      "text/plain": [
       "'AVADHUT'"
      ]
     },
     "execution_count": 36,
     "metadata": {},
     "output_type": "execute_result"
    }
   ],
   "source": [
    "#uppercase\n",
    "dict['names'][1].upper()"
   ]
  },
  {
   "cell_type": "code",
   "execution_count": 37,
   "id": "4f3a8145",
   "metadata": {},
   "outputs": [],
   "source": [
    "#adding to roll no.\n",
    "dict['roll'][0]+=10"
   ]
  },
  {
   "cell_type": "code",
   "execution_count": 38,
   "id": "bd916e7b",
   "metadata": {},
   "outputs": [
    {
     "data": {
      "text/plain": [
       "{'names': ['shubham', 'avadhut', 'ram', 'jay'],\n",
       " 'roll': [20, 20, 30, 40],\n",
       " 'class': ['1st', '2nd', '3rd', '4th'],\n",
       " 'sub': ['science', 'physics', 'chemistry', 'maths']}"
      ]
     },
     "execution_count": 38,
     "metadata": {},
     "output_type": "execute_result"
    }
   ],
   "source": [
    "dict"
   ]
  },
  {
   "cell_type": "code",
   "execution_count": 39,
   "id": "ad26f3f6",
   "metadata": {},
   "outputs": [
    {
     "data": {
      "text/plain": [
       "['shubham', 'avadhut', 'ram']"
      ]
     },
     "execution_count": 39,
     "metadata": {},
     "output_type": "execute_result"
    }
   ],
   "source": [
    "#calling items by indexing\n",
    "dict['names'][ :3]"
   ]
  },
  {
   "cell_type": "code",
   "execution_count": 40,
   "id": "f2ab8eeb",
   "metadata": {},
   "outputs": [],
   "source": [
    "#adding new row to dict\n",
    "dict['year']=[1995,1996,1997,1998]"
   ]
  },
  {
   "cell_type": "code",
   "execution_count": 41,
   "id": "beedbe56",
   "metadata": {},
   "outputs": [
    {
     "data": {
      "text/plain": [
       "{'names': ['shubham', 'avadhut', 'ram', 'jay'],\n",
       " 'roll': [20, 20, 30, 40],\n",
       " 'class': ['1st', '2nd', '3rd', '4th'],\n",
       " 'sub': ['science', 'physics', 'chemistry', 'maths'],\n",
       " 'year': [1995, 1996, 1997, 1998]}"
      ]
     },
     "execution_count": 41,
     "metadata": {},
     "output_type": "execute_result"
    }
   ],
   "source": [
    "dict"
   ]
  },
  {
   "cell_type": "code",
   "execution_count": 42,
   "id": "e7d87f7c",
   "metadata": {},
   "outputs": [],
   "source": [
    "#updating column\n",
    "dict.update({'year':[2001,2002,2003,2004],'class':['5th','6th','7th','8th']})"
   ]
  },
  {
   "cell_type": "code",
   "execution_count": 43,
   "id": "ffdabe74",
   "metadata": {},
   "outputs": [
    {
     "data": {
      "text/plain": [
       "{'names': ['shubham', 'avadhut', 'ram', 'jay'],\n",
       " 'roll': [20, 20, 30, 40],\n",
       " 'class': ['5th', '6th', '7th', '8th'],\n",
       " 'sub': ['science', 'physics', 'chemistry', 'maths'],\n",
       " 'year': [2001, 2002, 2003, 2004]}"
      ]
     },
     "execution_count": 43,
     "metadata": {},
     "output_type": "execute_result"
    }
   ],
   "source": [
    "dict"
   ]
  },
  {
   "cell_type": "code",
   "execution_count": 44,
   "id": "1722b722",
   "metadata": {},
   "outputs": [
    {
     "data": {
      "text/plain": [
       "5"
      ]
     },
     "execution_count": 44,
     "metadata": {},
     "output_type": "execute_result"
    }
   ],
   "source": [
    "len(dict)"
   ]
  },
  {
   "cell_type": "code",
   "execution_count": 45,
   "id": "4535dbde",
   "metadata": {},
   "outputs": [
    {
     "data": {
      "text/plain": [
       "{'names': ['shubham', 'avadhut', 'ram', 'jay'],\n",
       " 'roll': [20, 20, 30, 40],\n",
       " 'class': ['5th', '6th', '7th', '8th'],\n",
       " 'sub': ['science', 'physics', 'chemistry', 'maths'],\n",
       " 'year': [2001, 2002, 2003, 2004]}"
      ]
     },
     "execution_count": 45,
     "metadata": {},
     "output_type": "execute_result"
    }
   ],
   "source": [
    "dict"
   ]
  },
  {
   "cell_type": "code",
   "execution_count": 51,
   "id": "bc8441e5",
   "metadata": {},
   "outputs": [
    {
     "data": {
      "text/plain": [
       "'shubham'"
      ]
     },
     "execution_count": 51,
     "metadata": {},
     "output_type": "execute_result"
    }
   ],
   "source": [
    "x=dict['names'][0]\n",
    "x"
   ]
  },
  {
   "cell_type": "code",
   "execution_count": 52,
   "id": "5c811650",
   "metadata": {},
   "outputs": [
    {
     "data": {
      "text/plain": [
       "[20, 20, 30, 40]"
      ]
     },
     "execution_count": 52,
     "metadata": {},
     "output_type": "execute_result"
    }
   ],
   "source": [
    "a=dict['roll']\n",
    "a"
   ]
  },
  {
   "cell_type": "code",
   "execution_count": 53,
   "id": "4204bc7b",
   "metadata": {},
   "outputs": [
    {
     "data": {
      "text/plain": [
       "dict_values([['shubham', 'avadhut', 'ram', 'jay'], [20, 20, 30, 40], ['5th', '6th', '7th', '8th'], ['science', 'physics', 'chemistry', 'maths'], [2001, 2002, 2003, 2004]])"
      ]
     },
     "execution_count": 53,
     "metadata": {},
     "output_type": "execute_result"
    }
   ],
   "source": [
    "dict.values()"
   ]
  },
  {
   "cell_type": "code",
   "execution_count": 55,
   "id": "83fdaa5b",
   "metadata": {},
   "outputs": [
    {
     "data": {
      "text/plain": [
       "dict_items([('names', ['shubham', 'avadhut', 'ram', 'jay']), ('roll', [20, 20, 30, 40]), ('class', ['5th', '6th', '7th', '8th']), ('sub', ['science', 'physics', 'chemistry', 'maths']), ('year', [2001, 2002, 2003, 2004])])"
      ]
     },
     "execution_count": 55,
     "metadata": {},
     "output_type": "execute_result"
    }
   ],
   "source": [
    "c=dict.items()\n",
    "c"
   ]
  },
  {
   "cell_type": "code",
   "execution_count": 1,
   "id": "fc9fb81b",
   "metadata": {},
   "outputs": [
    {
     "ename": "TypeError",
     "evalue": "argument of type 'type' is not iterable",
     "output_type": "error",
     "traceback": [
      "\u001b[1;31m---------------------------------------------------------------------------\u001b[0m",
      "\u001b[1;31mTypeError\u001b[0m                                 Traceback (most recent call last)",
      "\u001b[1;32m~\\AppData\\Local\\Temp/ipykernel_12424/858198193.py\u001b[0m in \u001b[0;36m<module>\u001b[1;34m\u001b[0m\n\u001b[0;32m      1\u001b[0m \u001b[1;31m#check if\u001b[0m\u001b[1;33m\u001b[0m\u001b[1;33m\u001b[0m\u001b[0m\n\u001b[1;32m----> 2\u001b[1;33m \u001b[1;32mif\u001b[0m \u001b[1;34m'sub'\u001b[0m \u001b[1;32min\u001b[0m \u001b[0mdict\u001b[0m\u001b[1;33m:\u001b[0m\u001b[1;33m\u001b[0m\u001b[1;33m\u001b[0m\u001b[0m\n\u001b[0m\u001b[0;32m      3\u001b[0m     \u001b[0mprint\u001b[0m\u001b[1;33m(\u001b[0m\u001b[1;34m'yes sub is present in thi dictonary'\u001b[0m\u001b[1;33m)\u001b[0m\u001b[1;33m\u001b[0m\u001b[1;33m\u001b[0m\u001b[0m\n",
      "\u001b[1;31mTypeError\u001b[0m: argument of type 'type' is not iterable"
     ]
    }
   ],
   "source": [
    "#check if \n",
    "if 'sub' in dict:\n",
    "    print('yes sub is present in thi dictonary')"
   ]
  },
  {
   "cell_type": "code",
   "execution_count": 61,
   "id": "52c9c9d2",
   "metadata": {},
   "outputs": [
    {
     "data": {
      "text/plain": [
       "{'names': ['shubham', 'avadhut', 'ram', 'jay'],\n",
       " 'roll': [20, 20, 30, 40],\n",
       " 'class': ['5th', '6th', '7th', '8th'],\n",
       " 'sub': ['science', 'physics', 'chemistry', 'maths'],\n",
       " 'year': [2001, 2002, 2003, 2004]}"
      ]
     },
     "execution_count": 61,
     "metadata": {},
     "output_type": "execute_result"
    }
   ],
   "source": [
    "dict"
   ]
  },
  {
   "cell_type": "code",
   "execution_count": 63,
   "id": "f97cd1e1",
   "metadata": {},
   "outputs": [
    {
     "data": {
      "text/plain": [
       "[2001, 2002, 2003, 2004]"
      ]
     },
     "execution_count": 63,
     "metadata": {},
     "output_type": "execute_result"
    }
   ],
   "source": [
    "#pop off \n",
    "dict.pop('year')"
   ]
  },
  {
   "cell_type": "code",
   "execution_count": 64,
   "id": "00211fa4",
   "metadata": {},
   "outputs": [
    {
     "data": {
      "text/plain": [
       "{'names': ['shubham', 'avadhut', 'ram', 'jay'],\n",
       " 'roll': [20, 20, 30, 40],\n",
       " 'class': ['5th', '6th', '7th', '8th'],\n",
       " 'sub': ['science', 'physics', 'chemistry', 'maths']}"
      ]
     },
     "execution_count": 64,
     "metadata": {},
     "output_type": "execute_result"
    }
   ],
   "source": [
    "dict"
   ]
  },
  {
   "cell_type": "code",
   "execution_count": 68,
   "id": "dea78d61",
   "metadata": {},
   "outputs": [
    {
     "data": {
      "text/plain": [
       "{'names': ['shubham', 'avadhut', 'ram', 'jay'],\n",
       " 'roll': [20, 20, 30, 40],\n",
       " 'class': ['5th', '6th', '7th', '8th'],\n",
       " 'sub': ['science', 'physics', 'chemistry', 'maths']}"
      ]
     },
     "execution_count": 68,
     "metadata": {},
     "output_type": "execute_result"
    }
   ],
   "source": [
    "#copy dictonary\n",
    "dict1=dict.copy()\n",
    "dict1\n"
   ]
  },
  {
   "cell_type": "code",
   "execution_count": 71,
   "id": "4c7d22e2",
   "metadata": {},
   "outputs": [
    {
     "data": {
      "text/plain": [
       "{'child1': {'name': 'Emil', 'year': 2004},\n",
       " 'child2': {'name': 'Tobias', 'year': 2007},\n",
       " 'child3': {'name': 'Linus', 'year': 2011}}"
      ]
     },
     "execution_count": 71,
     "metadata": {},
     "output_type": "execute_result"
    }
   ],
   "source": [
    "#nested dictonary\n",
    "myfamily = {\n",
    "  \"child1\" : {\n",
    "    \"name\" : \"Emil\",\n",
    "    \"year\" : 2004\n",
    "  },\n",
    "  \"child2\" : {\n",
    "    \"name\" : \"Tobias\",\n",
    "    \"year\" : 2007\n",
    "  },\n",
    "  \"child3\" : {\n",
    "    \"name\" : \"Linus\",\n",
    "    \"year\" : 2011\n",
    "  }\n",
    "}\n",
    "myfamily"
   ]
  },
  {
   "cell_type": "code",
   "execution_count": 32,
   "id": "c7369ef4",
   "metadata": {},
   "outputs": [
    {
     "data": {
      "text/plain": [
       "{'key1': {'key2': {'key3': {'key4': [52,\n",
       "     62,\n",
       "     42,\n",
       "     62,\n",
       "     5,\n",
       "     2,\n",
       "     321,\n",
       "     215,\n",
       "     56,\n",
       "     22,\n",
       "     'string']}}}}"
      ]
     },
     "execution_count": 32,
     "metadata": {},
     "output_type": "execute_result"
    }
   ],
   "source": [
    "dict2={\"key1\":{\"key2\":{\"key3\":{\"key4\":[52,62,42,62,5,2,321,215,56,22,\"string\"]}}}}\n",
    "dict2\n",
    "    "
   ]
  },
  {
   "cell_type": "code",
   "execution_count": 28,
   "id": "90d8050b",
   "metadata": {},
   "outputs": [
    {
     "data": {
      "text/plain": [
       "{'key1': {'key2': [4, 5, 6]}}"
      ]
     },
     "execution_count": 28,
     "metadata": {},
     "output_type": "execute_result"
    }
   ],
   "source": [
    "dict3={\"key1\":\n",
    "{\"key2\":[4,5,6] }\n",
    "}\n",
    "dict3"
   ]
  },
  {
   "cell_type": "code",
   "execution_count": 36,
   "id": "791e42bd",
   "metadata": {},
   "outputs": [
    {
     "data": {
      "text/plain": [
       "{'key1': {'nestedkey': {'subnested key': [20]}}}"
      ]
     },
     "execution_count": 36,
     "metadata": {},
     "output_type": "execute_result"
    }
   ],
   "source": [
    "dict4={'key1':{'nestedkey':{\"subnested key\":[20]}}}\n",
    "dict4"
   ]
  },
  {
   "cell_type": "code",
   "execution_count": 40,
   "id": "20b02fd2",
   "metadata": {},
   "outputs": [
    {
     "data": {
      "text/plain": [
       "{0: 0,\n",
       " 1: 1,\n",
       " 2: 4,\n",
       " 3: 9,\n",
       " 4: 16,\n",
       " 5: 25,\n",
       " 6: 36,\n",
       " 7: 49,\n",
       " 8: 64,\n",
       " 9: 81,\n",
       " 10: 100,\n",
       " 11: 121,\n",
       " 12: 144,\n",
       " 13: 169,\n",
       " 14: 196,\n",
       " 15: 225,\n",
       " 16: 256,\n",
       " 17: 289,\n",
       " 18: 324,\n",
       " 19: 361,\n",
       " 20: 400}"
      ]
     },
     "execution_count": 40,
     "metadata": {},
     "output_type": "execute_result"
    }
   ],
   "source": [
    "# list comprehension\n",
    "square={shubh:shubh**2 for shubh in range(21)}\n",
    "square"
   ]
  },
  {
   "cell_type": "code",
   "execution_count": 43,
   "id": "9cf17fad",
   "metadata": {},
   "outputs": [
    {
     "data": {
      "text/plain": [
       "{0: 0,\n",
       " 1: 2,\n",
       " 2: 4,\n",
       " 3: 6,\n",
       " 4: 8,\n",
       " 5: 10,\n",
       " 6: 12,\n",
       " 7: 14,\n",
       " 8: 16,\n",
       " 9: 18,\n",
       " 10: 20,\n",
       " 11: 22,\n",
       " 12: 24,\n",
       " 13: 26,\n",
       " 14: 28,\n",
       " 15: 30,\n",
       " 16: 32,\n",
       " 17: 34,\n",
       " 18: 36,\n",
       " 19: 38,\n",
       " 20: 40}"
      ]
     },
     "execution_count": 43,
     "metadata": {},
     "output_type": "execute_result"
    }
   ],
   "source": [
    "table={shubh:shubh*2 for shubh in range(21)}\n",
    "table"
   ]
  },
  {
   "cell_type": "code",
   "execution_count": null,
   "id": "ead8348f",
   "metadata": {},
   "outputs": [],
   "source": []
  }
 ],
 "metadata": {
  "kernelspec": {
   "display_name": "Python 3 (ipykernel)",
   "language": "python",
   "name": "python3"
  },
  "language_info": {
   "codemirror_mode": {
    "name": "ipython",
    "version": 3
   },
   "file_extension": ".py",
   "mimetype": "text/x-python",
   "name": "python",
   "nbconvert_exporter": "python",
   "pygments_lexer": "ipython3",
   "version": "3.9.7"
  }
 },
 "nbformat": 4,
 "nbformat_minor": 5
}
