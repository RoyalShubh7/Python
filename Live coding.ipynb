{
 "cells": [
  {
   "cell_type": "code",
   "execution_count": 4,
   "metadata": {},
   "outputs": [
    {
     "name": "stdout",
     "output_type": "stream",
     "text": [
      "{'boys': [2, 4, 6, 8, 10, 12, 14, 16, 18, 20], 'Girls': [1, 3, 5, 7, 9, 11, 13, 15, 17, 19]}\n"
     ]
    }
   ],
   "source": [
    "roll=list(range(1,21))\n",
    "boys=[]\n",
    "girls=[]\n",
    "for shubh in roll:\n",
    "    if shubh%2==0:\n",
    "        boys.append(shubh)\n",
    "    else:\n",
    "        girls.append(shubh)\n",
    "\n",
    "\n",
    "dictionary={'boys':boys,'Girls':girls}\n",
    "print(dictionary) \n"
   ]
  },
  {
   "cell_type": "code",
   "execution_count": 7,
   "metadata": {},
   "outputs": [
    {
     "name": "stdout",
     "output_type": "stream",
     "text": [
      "[22500, 19350, 10250, 15505]\n"
     ]
    }
   ],
   "source": [
    "salary=[22500,50005,45000,19350,25000,10250,15505]\n",
    "less_salary=[]\n",
    "for shubh in salary:\n",
    "    if shubh<25000:\n",
    "        less_salary.append(shubh)\n",
    "print(less_salary)"
   ]
  },
  {
   "cell_type": "code",
   "execution_count": 18,
   "metadata": {},
   "outputs": [
    {
     "name": "stdout",
     "output_type": "stream",
     "text": [
      "Dear rohit your salary is 5000\n"
     ]
    }
   ],
   "source": [
    "empl_salary=[2000,4000,5000,6000,6500,5200]\n",
    "empl_name=['farhad','shankar','rohit','astha','shital','abhishke']\n",
    "for shubh in empl_name:\n",
    "    if shubh=='rohit':\n",
    "        name=empl_name.index(shubh)\n",
    "        print('Dear '+ shubh +' your salary is',empl_salary[name])\n"
   ]
  },
  {
   "cell_type": "code",
   "execution_count": 23,
   "metadata": {},
   "outputs": [],
   "source": [
    "roll=list(range(0,21,2))"
   ]
  },
  {
   "cell_type": "code",
   "execution_count": 24,
   "metadata": {},
   "outputs": [
    {
     "data": {
      "text/plain": [
       "[0, 2, 4, 6, 8, 10, 12, 14, 16, 18, 20]"
      ]
     },
     "execution_count": 24,
     "metadata": {},
     "output_type": "execute_result"
    }
   ],
   "source": [
    "roll"
   ]
  },
  {
   "cell_type": "code",
   "execution_count": 10,
   "metadata": {},
   "outputs": [
    {
     "name": "stdout",
     "output_type": "stream",
     "text": [
      "[22500, 19350, 10250, 15505]\n"
     ]
    }
   ],
   "source": [
    "data=[22500,50005,45000,19350,25000,10250,15505]\n",
    "\n",
    "salary=[]\n",
    "for shubh in data:\n",
    "    if shubh<25000:\n",
    "        salary.append(shubh)\n",
    "print(salary)         \n",
    "\n",
    "\n"
   ]
  },
  {
   "cell_type": "code",
   "execution_count": 79,
   "metadata": {},
   "outputs": [
    {
     "data": {
      "text/plain": [
       "[22500, 19350, 10250, 15505]"
      ]
     },
     "execution_count": 79,
     "metadata": {},
     "output_type": "execute_result"
    }
   ],
   "source": [
    "data=[22500,50005,45000,19350,25000,10250,15505]\n",
    "\n",
    "def sal(data):\n",
    "    return data<25000\n",
    "less=filter(sal,data)\n",
    "\n",
    "\n",
    "\n",
    "\n",
    "list(less)"
   ]
  },
  {
   "cell_type": "code",
   "execution_count": 41,
   "metadata": {},
   "outputs": [
    {
     "name": "stdout",
     "output_type": "stream",
     "text": [
      "{'Boys': [2, 4, 6, 8, 10, 12, 14, 16, 18, 20], 'Girls': [1, 3, 5, 7, 9, 11, 13, 15, 17, 19]}\n"
     ]
    }
   ],
   "source": [
    "lst=list(range(1,21))\n",
    "Boys=[]\n",
    "Girls=[]\n",
    "for shubh in lst:\n",
    "    if shubh%2==0:\n",
    "        Boys.append(shubh)\n",
    "    else:\n",
    "        Girls.append(shubh)\n",
    "\n",
    "dict={'Boys':Boys,'Girls':Girls}\n",
    "print(dict)"
   ]
  },
  {
   "cell_type": "code",
   "execution_count": null,
   "metadata": {},
   "outputs": [],
   "source": [
    " "
   ]
  },
  {
   "cell_type": "code",
   "execution_count": 1,
   "metadata": {},
   "outputs": [],
   "source": [
    "def shubh(phone_make,phone_age,phone_gb):\n",
    "    if phone_make== 'iphone':\n",
    "        if phone_age >0 and phone_age<6:\n",
    "            if phone_gb==64:\n",
    "                print('The iphone price is:- 39283-41713')\n",
    "            elif phone_gb==128:\n",
    "                print('The iphone price is:-45835-48670')\n",
    "        if phone_age >6 and phone_age<12:\n",
    "            if phone_gb==64:\n",
    "                print('The iphone price is:-29283-31713')\n",
    "            elif phone_gb==128:\n",
    "                print('The iphone price is:-35835-38670')\n",
    "\n",
    "\n",
    "    elif phone_make== 'samsung':\n",
    "        if phone_age>0 and phone_age<6:\n",
    "            if phone_gb==64:\n",
    "                print('The phone price is:-853-906')\n",
    "        elif phone_age>12:\n",
    "            if phone_gb==128:\n",
    "                print('The phone price is:-711-755')\n",
    "\n"
   ]
  },
  {
   "cell_type": "code",
   "execution_count": 3,
   "metadata": {},
   "outputs": [
    {
     "name": "stdout",
     "output_type": "stream",
     "text": [
      "The iphone price is:- 39283-41713\n"
     ]
    }
   ],
   "source": [
    "phone=input('enter the phone company')\n",
    "used=int(input(\"enter the used phone months\"))\n",
    "memory=int(input('enter the phone memory'))\n",
    "\n",
    "shubh(phone,used,memory)\n"
   ]
  },
  {
   "cell_type": "code",
   "execution_count": null,
   "metadata": {},
   "outputs": [],
   "source": []
  },
  {
   "cell_type": "code",
   "execution_count": null,
   "metadata": {},
   "outputs": [],
   "source": []
  }
 ],
 "metadata": {
  "interpreter": {
   "hash": "b3ba2566441a7c06988d0923437866b63cedc61552a5af99d1f4fb67d367b25f"
  },
  "kernelspec": {
   "display_name": "Python 3.9.7 ('base')",
   "language": "python",
   "name": "python3"
  },
  "language_info": {
   "codemirror_mode": {
    "name": "ipython",
    "version": 3
   },
   "file_extension": ".py",
   "mimetype": "text/x-python",
   "name": "python",
   "nbconvert_exporter": "python",
   "pygments_lexer": "ipython3",
   "version": "3.9.7"
  },
  "orig_nbformat": 4
 },
 "nbformat": 4,
 "nbformat_minor": 2
}
