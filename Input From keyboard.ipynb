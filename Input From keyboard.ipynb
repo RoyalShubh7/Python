{
 "cells": [
  {
   "cell_type": "code",
   "execution_count": 4,
   "metadata": {},
   "outputs": [
    {
     "name": "stdout",
     "output_type": "stream",
     "text": [
      "Your Entered Name is : Shubham\n"
     ]
    }
   ],
   "source": [
    "name=input('enter your name')\n",
    "print('Your Entered Name is :',name)"
   ]
  },
  {
   "cell_type": "code",
   "execution_count": 5,
   "metadata": {},
   "outputs": [
    {
     "name": "stdout",
     "output_type": "stream",
     "text": [
      "Your Entered Age is : 24\n"
     ]
    }
   ],
   "source": [
    "age=input('enter your age')\n",
    "print('Your Entered Age is :',age)"
   ]
  },
  {
   "cell_type": "code",
   "execution_count": 12,
   "metadata": {},
   "outputs": [
    {
     "name": "stdout",
     "output_type": "stream",
     "text": [
      "It was nice talking to you Shubham!\n",
      "Hey! Your Birth Year Is 1998 MR Shubham ! \n"
     ]
    }
   ],
   "source": [
    "# more e.g.\n",
    "name=input('Enter Your Name')\n",
    "print(\"It was nice talking to you\",name+\"!\")\n",
    "\n",
    "\n",
    "\n",
    "year=input('enter your birth year')\n",
    "print(\"Hey! Your Birth Year Is\", year + \" MR \" + name + \" ! \")"
   ]
  },
  {
   "cell_type": "code",
   "execution_count": 4,
   "metadata": {},
   "outputs": [
    {
     "ename": "SyntaxError",
     "evalue": "invalid syntax (Temp/ipykernel_23300/1126953159.py, line 2)",
     "output_type": "error",
     "traceback": [
      "\u001b[1;36m  File \u001b[1;32m\"C:\\Users\\DELL\\AppData\\Local\\Temp/ipykernel_23300/1126953159.py\"\u001b[1;36m, line \u001b[1;32m2\u001b[0m\n\u001b[1;33m    for shubh in maths\u001b[0m\n\u001b[1;37m                      ^\u001b[0m\n\u001b[1;31mSyntaxError\u001b[0m\u001b[1;31m:\u001b[0m invalid syntax\n"
     ]
    }
   ],
   "source": [
    "# Understand only user to enter integer or string\n",
    "for shubh in maths\n",
    "maths= int(input('enter the math marks<=100'))\n",
    "\n",
    "if shubh<101:\n",
    "    if maths<=100:\n",
    "        print(\"your Entered maths Marks Are Correct\",maths)\n",
    "else:\n",
    "    print(\"you entered marks>100\")\n",
    "science= int(input('enter the science marks'))\n",
    "if science<101:\n",
    "    if science<=100:\n",
    "        print(\"your Entered Science Marks Are Correct\", science)\n",
    "else:\n",
    "    print(\"Your Marks Are>100 Plese Check it\")\n",
    "english= int(input('enter the english marks'))\n",
    "if english<101:\n",
    "    if english<=100:\n",
    "        print(\"your Entered English Marks Are Correct\", english)\n",
    "else:\n",
    "    print(\"Your Marks Are>100 Plese Check it\")\n",
    "\n",
    "\n",
    "Total= maths+science+english\n",
    "print(\"Your Toatal marks Are =\", Total)"
   ]
  },
  {
   "cell_type": "code",
   "execution_count": 22,
   "metadata": {},
   "outputs": [
    {
     "name": "stdout",
     "output_type": "stream",
     "text": [
      "Your Entered Name Is  Shubham\n"
     ]
    }
   ],
   "source": [
    "name=input('enter Your name')\n",
    "if name.isalpha():\n",
    "    print(\"Your Entered Name Is \", name)\n",
    "else:\n",
    "    print(\"Entered Only Alpha Characters\")\n"
   ]
  },
  {
   "cell_type": "code",
   "execution_count": null,
   "metadata": {},
   "outputs": [],
   "source": [
    "\n"
   ]
  }
 ],
 "metadata": {
  "interpreter": {
   "hash": "b3ba2566441a7c06988d0923437866b63cedc61552a5af99d1f4fb67d367b25f"
  },
  "kernelspec": {
   "display_name": "Python 3.9.7 ('base')",
   "language": "python",
   "name": "python3"
  },
  "language_info": {
   "codemirror_mode": {
    "name": "ipython",
    "version": 3
   },
   "file_extension": ".py",
   "mimetype": "text/x-python",
   "name": "python",
   "nbconvert_exporter": "python",
   "pygments_lexer": "ipython3",
   "version": "3.9.7"
  },
  "orig_nbformat": 4
 },
 "nbformat": 4,
 "nbformat_minor": 2
}
