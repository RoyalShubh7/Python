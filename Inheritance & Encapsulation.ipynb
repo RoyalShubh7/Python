{
 "cells": [
  {
   "cell_type": "code",
   "execution_count": 16,
   "metadata": {},
   "outputs": [],
   "source": [
    "from datetime import datetime\n",
    "\n",
    "class Employee:\n",
    "    def __init__(self,name,date_of_joining,salary,phone_number,gender,email,location,date_of_birth):\n",
    "        self.name             = name\n",
    "        self.date_of_joining  = datetime.strptime(date_of_joining, \"%b %d %Y\")\n",
    "        self.salary           = salary\n",
    "        self.phone_number     = phone_number\n",
    "        self.gender           = gender\n",
    "        self.location         = location\n",
    "        self.date_of_birth    = datetime.strptime(date_of_birth, '%b %d %Y')\n",
    "        self.email            = email\n",
    "\n",
    "\n",
    "\n",
    "    def emp_personal_info(self):\n",
    "        print ('name = ' + self.name,'\\n date_of_birth = ' + self.date_of_birth, '\\n phone_number = ' + self.phone_number, '\\n gender = ' + self.gender, '\\n email =' +self.email)\n",
    "\n",
    "\n",
    "\n",
    "    def salary_hike(self):\n",
    "        if self.salary < 8000:\n",
    "            print (\"Your New Salary Is =\", self.salary+ (self.salary*0.3))\n",
    "\n",
    "        elif self.salary > 8000:\n",
    "            print(\"Your New Salary Is = \", self.salary+ (self.salary*0.15))\n"
   ]
  },
  {
   "cell_type": "code",
   "execution_count": 17,
   "metadata": {},
   "outputs": [],
   "source": [
    "emp = Employee (\"Shubham\", \"oct 22 2022\", 12000, 7038507221, \"Male\", \"chougulesjc@gmail.com\", \"Kolhapur\", \"mar 21 1998\")\n"
   ]
  },
  {
   "cell_type": "code",
   "execution_count": null,
   "metadata": {},
   "outputs": [],
   "source": []
  },
  {
   "cell_type": "code",
   "execution_count": 21,
   "metadata": {},
   "outputs": [
    {
     "name": "stdout",
     "output_type": "stream",
     "text": [
      "Employee ID is =  6031 \n",
      "Employee Name is = Shubham\n"
     ]
    }
   ],
   "source": [
    "# once class is define it models a concepts.it is useful to extend the class behavior to model less general concept.\n",
    "# Say we need to model a student but we know that every student is also person so we shouldn't model that person again but inherit from in it insted.\n",
    "\n",
    "# THIS IS THE INHERITANCE :-------------------------------\n",
    "# (In inheritance we can add the some information to the class without retyping all the code.)\n",
    "\n",
    "\n",
    "# SUPER() gives you access methods in superclass from the subclass that inherites from it.\n",
    "\n",
    "class Emp_id(Employee):\n",
    "\n",
    "    def __init__(self,emp_id,*args):\n",
    "        super(Emp_id, self).__init__(*args)\n",
    "        self.emp_id = emp_id\n",
    "\n",
    "    def emp_detail(self):\n",
    "        print('Employee ID is = ', self.emp_id,'\\nEmployee Name is =', self.name)\n",
    "\n",
    "\n",
    "Emp_Details= Emp_id(6031,\"Shubham\", \"oct 22 2022\", 12000, 7038507221, \"Male\", \"chougulesjc@gmail.com\", \"Kolhapur\", \"mar 21 1998\")\n",
    "\n",
    "\n",
    "\n",
    "Emp_Details.emp_detail()"
   ]
  },
  {
   "cell_type": "code",
   "execution_count": 36,
   "metadata": {},
   "outputs": [],
   "source": [
    "# THIS IS ENCAPSULATION:(Inthis we can connect one class to another second class)\n",
    "# (It is an another powerful way to extend the class which consists on wrapping an object with a second one.)\n",
    "\n",
    "\n",
    "# e.g. we can say that a car is composed by:\n",
    "# 1) Tyres 2)Engine 3)Body\n",
    "# And break down each one of these elements in simpler parts until we reach our primitive data .\n",
    "\n",
    "\n",
    "\n",
    "class Tyres:\n",
    "    def __init__(self,Branch, Belted_Bias, Opt_pressure):\n",
    "        self.Branch = Branch\n",
    "        self.Belted_Bias = Belted_Bias\n",
    "        self.Opt_pressure = Opt_pressure\n",
    "        \n",
    "\n",
    "\n",
    "# __str__(can be used if you want to define a function name but you want it to exicute.)\n",
    "    def __str__(self):\n",
    "        return(\"Tyres: \\n \\t Branch: \"+ self.Branch +\n",
    "               \"\\n \\tBelted_Bias:\"+ str(self.Belted_Bias) +\n",
    "               \"\\n \\t Opt_pressure: \"+ str(self.Opt_pressure))\n",
    "\n",
    "\n",
    "class Engine:\n",
    "    def __init__(self,Fuel_type,Noise_level):\n",
    "        self.Fuel_type= Fuel_type\n",
    "        self.Noise_level=Noise_level\n",
    "           \n",
    "\n",
    "        \n",
    "    def __str__(self):\n",
    "        return(\"Engine: \\n \\t Fuel_type: \"+ self.Fuel_type +\n",
    "               \"\\n \\t Opt_pressure: \"+ str(self.Noise_level))\n",
    "\n",
    "\n",
    "\n",
    "class Body:\n",
    "    def __init__(self,Model,Size):\n",
    "        self.Model= Model\n",
    "        self.Size= Size\n",
    "\n",
    "\n",
    "\n",
    "    def __str__(self):\n",
    "        return(\"Body: \\n\\t Shubh: \"+ self.Model +\n",
    "               \"\\n \\t Size: \"+ str(self.Size))\n",
    "\n",
    "\n",
    "\n"
   ]
  },
  {
   "cell_type": "code",
   "execution_count": 37,
   "metadata": {},
   "outputs": [],
   "source": [
    "class Car:\n",
    "    def __init__(self,Tyres,Engine,Body):\n",
    "        self.Tyres= Tyres\n",
    "        self.Engine=Engine\n",
    "        self.Body= Body\n",
    "\n",
    "    def __str__(self):\n",
    "        return str(self.Tyres) + \"\\n\" + str(self.Engine) + \"\\n\" + str(self.Body)\n",
    "\n",
    "\n",
    "\n",
    "\n"
   ]
  },
  {
   "cell_type": "code",
   "execution_count": 38,
   "metadata": {},
   "outputs": [
    {
     "name": "stdout",
     "output_type": "stream",
     "text": [
      "Tyres: \n",
      " \t Branch: MRF\n",
      " \tBelted_Bias:True\n",
      " \t Opt_pressure: 35\n",
      "Engine: \n",
      " \t Fuel_type: Petrol\n",
      " \t Opt_pressure: 6.5\n",
      "Body: \n",
      "\t Shubh: Honda\n",
      " \t Size: Civic\n"
     ]
    }
   ],
   "source": [
    "T=Tyres('MRF', True,35)\n",
    "E=Engine('Petrol',6.5)\n",
    "B=Body('Honda','Civic')\n",
    "\n",
    "\n",
    "\n",
    "\n",
    "\n",
    "\n",
    "C=Car(T,E,B)\n",
    "print(C)"
   ]
  },
  {
   "cell_type": "code",
   "execution_count": null,
   "metadata": {},
   "outputs": [],
   "source": []
  }
 ],
 "metadata": {
  "interpreter": {
   "hash": "b3ba2566441a7c06988d0923437866b63cedc61552a5af99d1f4fb67d367b25f"
  },
  "kernelspec": {
   "display_name": "Python 3.9.7 ('base')",
   "language": "python",
   "name": "python3"
  },
  "language_info": {
   "codemirror_mode": {
    "name": "ipython",
    "version": 3
   },
   "file_extension": ".py",
   "mimetype": "text/x-python",
   "name": "python",
   "nbconvert_exporter": "python",
   "pygments_lexer": "ipython3",
   "version": "3.9.7"
  },
  "orig_nbformat": 4
 },
 "nbformat": 4,
 "nbformat_minor": 2
}
