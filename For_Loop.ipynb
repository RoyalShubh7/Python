{
 "cells": [
  {
   "cell_type": "code",
   "execution_count": 11,
   "metadata": {},
   "outputs": [
    {
     "name": "stdout",
     "output_type": "stream",
     "text": [
      "average salary\n",
      "betterrrr\n",
      "very good salary\n",
      "average salary\n",
      "average salary\n",
      "average salary\n",
      "very good salary\n",
      "average salary\n",
      "betterrrr\n"
     ]
    }
   ],
   "source": [
    "salary = {2000,1000,5000,70000,8000,6000,40000,50000,60000}\n",
    "for shubh in salary:\n",
    "    if shubh>15000:\n",
    "        if shubh>50000:\n",
    "            print('very good salary')\n",
    "        else:\n",
    "            print(\"betterrrr\")\n",
    "    elif shubh<=10000 and shubh>15000:\n",
    "        print('nice salary')\n",
    "    elif shubh > 20000:\n",
    "        print('good salary')\n",
    "    else:\n",
    "        print('average salary')\n"
   ]
  }
 ],
 "metadata": {
  "interpreter": {
   "hash": "b3ba2566441a7c06988d0923437866b63cedc61552a5af99d1f4fb67d367b25f"
  },
  "kernelspec": {
   "display_name": "Python 3.9.7 64-bit ('base': conda)",
   "language": "python",
   "name": "python3"
  },
  "language_info": {
   "codemirror_mode": {
    "name": "ipython",
    "version": 3
   },
   "file_extension": ".py",
   "mimetype": "text/x-python",
   "name": "python",
   "nbconvert_exporter": "python",
   "pygments_lexer": "ipython3",
   "version": "3.9.7"
  },
  "orig_nbformat": 4
 },
 "nbformat": 4,
 "nbformat_minor": 2
}
