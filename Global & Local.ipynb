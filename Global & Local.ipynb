{
 "cells": [
  {
   "cell_type": "code",
   "execution_count": 4,
   "metadata": {},
   "outputs": [
    {
     "name": "stdout",
     "output_type": "stream",
     "text": [
      "printing inside the function and total is 135\n"
     ]
    }
   ],
   "source": [
    "# global variables\n",
    "var1= 50\n",
    "def name():\n",
    "    print('printing inside the function and total is',85+var1)\n",
    "name()"
   ]
  },
  {
   "cell_type": "code",
   "execution_count": 5,
   "metadata": {},
   "outputs": [
    {
     "name": "stdout",
     "output_type": "stream",
     "text": [
      "print outside the function 135\n"
     ]
    }
   ],
   "source": [
    "# printing outside the function\n",
    "print(\"print outside the function\",85+var1)"
   ]
  },
  {
   "cell_type": "code",
   "execution_count": 13,
   "metadata": {},
   "outputs": [
    {
     "name": "stdout",
     "output_type": "stream",
     "text": [
      "print inside the function 150\n"
     ]
    }
   ],
   "source": [
    "# local  variables:\n",
    "def function():\n",
    "    var2=100\n",
    "    print(\"print inside the function\",50+var2)\n",
    "function()"
   ]
  },
  {
   "cell_type": "code",
   "execution_count": 15,
   "metadata": {},
   "outputs": [
    {
     "name": "stdout",
     "output_type": "stream",
     "text": [
      "print outside the function 150\n"
     ]
    }
   ],
   "source": [
    "# print outside the function:\n",
    "print(\"print outside the function\",50+var2)"
   ]
  },
  {
   "cell_type": "code",
   "execution_count": 16,
   "metadata": {},
   "outputs": [
    {
     "name": "stdout",
     "output_type": "stream",
     "text": [
      "print inside the function 150\n"
     ]
    }
   ],
   "source": [
    "# local  variables:\n",
    "def function():\n",
    "    var2=100\n",
    "    print(\"print inside the function\",50+var2)\n",
    "function()"
   ]
  },
  {
   "cell_type": "code",
   "execution_count": 17,
   "metadata": {},
   "outputs": [
    {
     "name": "stdout",
     "output_type": "stream",
     "text": [
      "print outside the function 150\n"
     ]
    }
   ],
   "source": [
    "# print outside the function:\n",
    "print(\"print outside the function\",50+var2)"
   ]
  },
  {
   "cell_type": "code",
   "execution_count": null,
   "metadata": {},
   "outputs": [],
   "source": []
  }
 ],
 "metadata": {
  "interpreter": {
   "hash": "b3ba2566441a7c06988d0923437866b63cedc61552a5af99d1f4fb67d367b25f"
  },
  "kernelspec": {
   "display_name": "Python 3.9.7 64-bit ('base': conda)",
   "language": "python",
   "name": "python3"
  },
  "language_info": {
   "codemirror_mode": {
    "name": "ipython",
    "version": 3
   },
   "file_extension": ".py",
   "mimetype": "text/x-python",
   "name": "python",
   "nbconvert_exporter": "python",
   "pygments_lexer": "ipython3",
   "version": "3.9.7"
  },
  "orig_nbformat": 4
 },
 "nbformat": 4,
 "nbformat_minor": 2
}
