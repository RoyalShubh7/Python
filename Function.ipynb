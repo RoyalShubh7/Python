{
 "cells": [
  {
   "cell_type": "code",
   "execution_count": 1,
   "metadata": {},
   "outputs": [
    {
     "name": "stdout",
     "output_type": "stream",
     "text": [
      "this is a function SHUBHAM\n"
     ]
    }
   ],
   "source": [
    "def hello(name):\n",
    "    print('this is a function %s' %name)\n",
    "hello('SHUBHAM')"
   ]
  },
  {
   "cell_type": "code",
   "execution_count": 2,
   "metadata": {},
   "outputs": [
    {
     "name": "stdout",
     "output_type": "stream",
     "text": [
      "Your Total Marks =  260\n"
     ]
    }
   ],
   "source": [
    "def stud(science,english,maths,hindi):\n",
    "     return(science+english+maths+hindi)\n",
    "print('Your Total Marks = ',stud(50,60,80,70) )\n"
   ]
  },
  {
   "cell_type": "code",
   "execution_count": 3,
   "metadata": {},
   "outputs": [
    {
     "data": {
      "text/plain": [
       "265"
      ]
     },
     "execution_count": 3,
     "metadata": {},
     "output_type": "execute_result"
    }
   ],
   "source": [
    "shubham_marks=stud(54,95,62,54)\n",
    "shubham_marks"
   ]
  },
  {
   "cell_type": "code",
   "execution_count": 4,
   "metadata": {},
   "outputs": [
    {
     "name": "stdout",
     "output_type": "stream",
     "text": [
      "shubham you are pass with distinction and your total marks are 265\n"
     ]
    }
   ],
   "source": [
    "if shubham_marks>250:\n",
    "    print('shubham you are pass with distinction and your total marks are', shubham_marks)\n",
    "elif shubham_marks>200 and shubham_marks<250:\n",
    "    print('Shubham pass with first class')\n",
    "elif shubham_marks<150 and shubham_marks>100:\n",
    "    print('shubham you are pass')\n",
    "else:\n",
    "    print('Shubham you are fail')\n"
   ]
  },
  {
   "cell_type": "code",
   "execution_count": 5,
   "metadata": {},
   "outputs": [
    {
     "name": "stdout",
     "output_type": "stream",
     "text": [
      "avadhut your total marks are 291 you pass with distincton\n"
     ]
    }
   ],
   "source": [
    "avadhut_marks=stud(65,85,96,45)\n",
    "\n",
    "if avadhut_marks>250:\n",
    "    print('avadhut your total marks are', avadhut_marks, 'you pass with distincton')\n",
    "elif avadhut_marks>200 and avadhut_marks<250:\n",
    "    print('avadhut your total marks are', avadhut_marks, 'you pass with first class')\n",
    "elif avadhut_marks<200 and avadut_marks>100:\n",
    "    print('avadhut your total marks are', avadhut_marks, 'you are pass')\n",
    "else:\n",
    "    print('avadhut your total marks are', avadhut_marks, 'you are fail')\n",
    "    "
   ]
  },
  {
   "cell_type": "code",
   "execution_count": 6,
   "metadata": {},
   "outputs": [],
   "source": [
    "#to check the even and squre the number\n",
    "def squr(number):\n",
    "    for shubh in range(0,number):\n",
    "        if shubh %2 ==0:\n",
    "            print('squre of number is = ', shubh**2)\n",
    "        else:\n",
    "            print('the entered number is not even number =', shubh)"
   ]
  },
  {
   "cell_type": "code",
   "execution_count": 7,
   "metadata": {},
   "outputs": [
    {
     "name": "stdout",
     "output_type": "stream",
     "text": [
      "squre of number is =  0\n",
      "the entered number is not even number = 1\n",
      "squre of number is =  4\n",
      "the entered number is not even number = 3\n",
      "squre of number is =  16\n",
      "the entered number is not even number = 5\n",
      "squre of number is =  36\n",
      "the entered number is not even number = 7\n",
      "squre of number is =  64\n",
      "the entered number is not even number = 9\n"
     ]
    }
   ],
   "source": [
    "squr(10)"
   ]
  },
  {
   "cell_type": "code",
   "execution_count": 10,
   "metadata": {},
   "outputs": [
    {
     "name": "stdin",
     "output_type": "stream",
     "text": [
      "enter the number to be squred  5\n"
     ]
    },
    {
     "name": "stdout",
     "output_type": "stream",
     "text": [
      "squre of number is =  0\n",
      "the entered number is not even number = 1\n",
      "squre of number is =  4\n",
      "the entered number is not even number = 3\n",
      "squre of number is =  16\n"
     ]
    }
   ],
   "source": [
    "squr(int(input('enter the number to be squred ')))"
   ]
  },
  {
   "cell_type": "code",
   "execution_count": 11,
   "metadata": {},
   "outputs": [
    {
     "name": "stdin",
     "output_type": "stream",
     "text": [
      "enter the table no. to be produced 6\n"
     ]
    },
    {
     "name": "stdout",
     "output_type": "stream",
     "text": [
      "6 * 1 = 6\n",
      "6 * 2 = 12\n",
      "6 * 3 = 18\n",
      "6 * 4 = 24\n",
      "6 * 5 = 30\n",
      "6 * 6 = 36\n",
      "6 * 7 = 42\n",
      "6 * 8 = 48\n",
      "6 * 9 = 54\n",
      "6 * 10 = 60\n"
     ]
    }
   ],
   "source": [
    "number=int(input('enter the table no. to be produced'))\n",
    "for shubh in range(1,11):\n",
    "    if shubh :\n",
    "        print(number,'*',shubh,'=',number*shubh)"
   ]
  },
  {
   "cell_type": "code",
   "execution_count": null,
   "metadata": {},
   "outputs": [],
   "source": [
    "number=int(input('Enter the table no.'))\n",
    "for shubh in range(1,11):\n",
    "    print(number,'*',shubh,'=',number*shubh)"
   ]
  },
  {
   "cell_type": "code",
   "execution_count": null,
   "metadata": {},
   "outputs": [],
   "source": []
  },
  {
   "cell_type": "code",
   "execution_count": 18,
   "metadata": {},
   "outputs": [
    {
     "ename": "SyntaxError",
     "evalue": "invalid syntax (1362747120.py, line 7)",
     "output_type": "error",
     "traceback": [
      "\u001b[0;36m  File \u001b[0;32m\"/var/folders/4d/ytl5tj193_7br22pvpj_t5n40000gn/T/ipykernel_7304/1362747120.py\"\u001b[0;36m, line \u001b[0;32m7\u001b[0m\n\u001b[0;31m    for shubh in range(2,num):\u001b[0m\n\u001b[0m    ^\u001b[0m\n\u001b[0;31mSyntaxError\u001b[0m\u001b[0;31m:\u001b[0m invalid syntax\n"
     ]
    }
   ],
   "source": [
    "# proogrsm to check the given number is prime or not\n",
    "\n",
    "\n",
    "num=int(input(\"Enter the number to check the prime or not\")\n",
    "        \n",
    "if num > 1\n",
    "        for shubh in range(2,num):\n",
    "        if (num%shubh)==0:\n",
    "        print(num,\"Entered number is not prime number\")\n",
    "        break\n",
    "        else:\n",
    "        print(num,\"Entered number is prime number\")\n",
    "else:\n",
    "    print(num,\"is not a prime number\")\n",
    "        \n",
    "    "
   ]
  },
  {
   "cell_type": "code",
   "execution_count": 17,
   "metadata": {},
   "outputs": [
    {
     "ename": "IndentationError",
     "evalue": "unexpected indent (3312819567.py, line 3)",
     "output_type": "error",
     "traceback": [
      "\u001b[0;36m  File \u001b[0;32m\"/var/folders/4d/ytl5tj193_7br22pvpj_t5n40000gn/T/ipykernel_7304/3312819567.py\"\u001b[0;36m, line \u001b[0;32m3\u001b[0m\n\u001b[0;31m    number = int(input(\"Enter the number to be checked:\"))\u001b[0m\n\u001b[0m    ^\u001b[0m\n\u001b[0;31mIndentationError\u001b[0m\u001b[0;31m:\u001b[0m unexpected indent\n"
     ]
    }
   ],
   "source": [
    "#Program to check a given number is prime or not  \n",
    " #Take input from the user  \n",
    " number = int(input(\"Enter the number to be checked:\"))     \n",
    " # Check number is greater than 1  \n",
    " if number > 1:     \n",
    "     # Check for factors   \n",
    "     for i in range(2, number):      \n",
    "         if (number % i) == 0:    \n",
    "             print(number, \"is not a prime number\")      \n",
    "             break    \n",
    "     else:    \n",
    "         print(number, \"is a prime number\")     \n",
    " else:       \n",
    "     print(number, \"is not a prime number\")  "
   ]
  },
  {
   "cell_type": "code",
   "execution_count": null,
   "metadata": {},
   "outputs": [],
   "source": []
  }
 ],
 "metadata": {
  "interpreter": {
   "hash": "b3ba2566441a7c06988d0923437866b63cedc61552a5af99d1f4fb67d367b25f"
  },
  "kernelspec": {
   "display_name": "Python 3 (ipykernel)",
   "language": "python",
   "name": "python3"
  },
  "language_info": {
   "codemirror_mode": {
    "name": "ipython",
    "version": 3
   },
   "file_extension": ".py",
   "mimetype": "text/x-python",
   "name": "python",
   "nbconvert_exporter": "python",
   "pygments_lexer": "ipython3",
   "version": "3.9.7"
  }
 },
 "nbformat": 4,
 "nbformat_minor": 4
}
