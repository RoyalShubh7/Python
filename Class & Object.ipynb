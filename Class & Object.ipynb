{
 "cells": [
  {
   "cell_type": "code",
   "execution_count": 4,
   "metadata": {},
   "outputs": [],
   "source": [
    "# creating a class\n",
    "# class classname(argument name):   (class name should be always in Upper Case)\n",
    "#     statements\n",
    "\n",
    "\n",
    "\n",
    "# e.g\n",
    "class Person:\n",
    "    pass"
   ]
  },
  {
   "cell_type": "code",
   "execution_count": 1,
   "metadata": {},
   "outputs": [],
   "source": [
    "class Person:    \n",
    "    pass          \n",
    "# (pass will just pass the code)\n",
    "\n",
    "\n",
    "\n",
    "\n"
   ]
  },
  {
   "cell_type": "code",
   "execution_count": null,
   "metadata": {},
   "outputs": [],
   "source": [
    "# __int__ is a special method for initializtion  (IS a special method in python that is automatically called after an object construction. Its purpose is to initialize every object state.\n",
    "# (the first argument(by convection)SELF is automatically passed either and refers to the object itself.)\n",
    "\n",
    "\n",
    "\n",
    "class Person:\n",
    "    def __int__(self,name,surname,year_of_birth):\n",
    "        self.name=name\n",
    "        self.surname=surname\n",
    "        self.year_of_birth=year_of_birth"
   ]
  },
  {
   "cell_type": "code",
   "execution_count": 11,
   "metadata": {},
   "outputs": [
    {
     "ename": "IndentationError",
     "evalue": "unexpected indent (Temp/ipykernel_22676/1449473412.py, line 3)",
     "output_type": "error",
     "traceback": [
      "\u001b[1;36m  File \u001b[1;32m\"C:\\Users\\DELL\\AppData\\Local\\Temp/ipykernel_22676/1449473412.py\"\u001b[1;36m, line \u001b[1;32m3\u001b[0m\n\u001b[1;33m    from datetime import datetime\u001b[0m\n\u001b[1;37m    ^\u001b[0m\n\u001b[1;31mIndentationError\u001b[0m\u001b[1;31m:\u001b[0m unexpected indent\n"
     ]
    }
   ],
   "source": [
    "# For more date formats (visit htttp://docs.python.org/3.7/liberary/datetime.html)\n",
    " \n",
    " from datetime import datetime   \n",
    "\n",
    "#  (it is in  the string formate dur to the slashes \"/\" present in the date format )\n"
   ]
  },
  {
   "cell_type": "code",
   "execution_count": 12,
   "metadata": {},
   "outputs": [],
   "source": [
    "# e.g. for defining calss completely\n",
    "# (in case of self we can take the any name but it should be used as same in the defining the methods. BUT SELF is standard name to declare.)\n",
    "\n",
    "from datetime import datetime\n",
    "\n",
    "class Employee:\n",
    "    def __init__(self,name,date_of_joining,salary,phone_number,gender,email,location,date_of_birth):\n",
    "        self.name             = name\n",
    "        self.date_of_joining  = datetime.strptime(date_of_joining, \"%b %d %Y\")\n",
    "        self.salary           = salary\n",
    "        self.phone_number     = phone_number\n",
    "        self.gender           = gender\n",
    "        self.location         = location\n",
    "        self.date_of_birth    = datetime.strptime(date_of_birth, '%b %d %Y')\n",
    "        self.email            = email\n",
    "\n",
    "\n",
    "\n",
    "    def emp_personal_info(self):\n",
    "        print ('name = ' + self.name,'\\n date_of_birth = ' + self.date_of_birth, '\\n phone_number = ' + self.phone_number, '\\n gender = ' + self.gender, '\\n email =' +self.email)\n",
    "\n",
    "\n",
    "\n",
    "    def salary_hike(self):\n",
    "        if self.salary < 8000:\n",
    "            print (\"Your New Salary Is =\", self.salary+ (self.salary*0.3))\n",
    "\n",
    "        elif self.salary > 8000:\n",
    "            print(\"Your New Salary Is = \", self.salary+ (self.salary*0.15))\n",
    "\n",
    "\n",
    "\n",
    "\n",
    "\n"
   ]
  },
  {
   "cell_type": "code",
   "execution_count": 13,
   "metadata": {},
   "outputs": [],
   "source": [
    "# now creating an object to pass the all class data or to run the code i.e. here object is \"emp\"\n",
    "\n",
    "\n",
    "emp = Employee (\"Shubham\", \"oct 22 2022\", 12000, 7038507221, \"Male\", \"chougulesjc@gmail.com\", \"Kolhapur\", \"mar 21 1998\")\n"
   ]
  },
  {
   "cell_type": "code",
   "execution_count": 14,
   "metadata": {},
   "outputs": [
    {
     "ename": "TypeError",
     "evalue": "can only concatenate str (not \"datetime.datetime\") to str",
     "output_type": "error",
     "traceback": [
      "\u001b[1;31m---------------------------------------------------------------------------\u001b[0m",
      "\u001b[1;31mTypeError\u001b[0m                                 Traceback (most recent call last)",
      "\u001b[1;32m~\\AppData\\Local\\Temp/ipykernel_22676/293214194.py\u001b[0m in \u001b[0;36m<module>\u001b[1;34m\u001b[0m\n\u001b[1;32m----> 1\u001b[1;33m \u001b[0memp\u001b[0m\u001b[1;33m.\u001b[0m\u001b[0memp_personal_info\u001b[0m\u001b[1;33m(\u001b[0m\u001b[1;33m)\u001b[0m\u001b[1;33m\u001b[0m\u001b[1;33m\u001b[0m\u001b[0m\n\u001b[0m",
      "\u001b[1;32m~\\AppData\\Local\\Temp/ipykernel_22676/1690979427.py\u001b[0m in \u001b[0;36memp_personal_info\u001b[1;34m(self)\u001b[0m\n\u001b[0;32m     18\u001b[0m \u001b[1;33m\u001b[0m\u001b[0m\n\u001b[0;32m     19\u001b[0m     \u001b[1;32mdef\u001b[0m \u001b[0memp_personal_info\u001b[0m\u001b[1;33m(\u001b[0m\u001b[0mself\u001b[0m\u001b[1;33m)\u001b[0m\u001b[1;33m:\u001b[0m\u001b[1;33m\u001b[0m\u001b[1;33m\u001b[0m\u001b[0m\n\u001b[1;32m---> 20\u001b[1;33m         \u001b[0mprint\u001b[0m \u001b[1;33m(\u001b[0m\u001b[1;34m'name = '\u001b[0m \u001b[1;33m+\u001b[0m \u001b[0mself\u001b[0m\u001b[1;33m.\u001b[0m\u001b[0mname\u001b[0m\u001b[1;33m,\u001b[0m\u001b[1;34m'/n date_of_birth = '\u001b[0m \u001b[1;33m+\u001b[0m \u001b[0mself\u001b[0m\u001b[1;33m.\u001b[0m\u001b[0mdate_of_birth\u001b[0m\u001b[1;33m,\u001b[0m \u001b[1;34m'/n phone_number = '\u001b[0m \u001b[1;33m+\u001b[0m \u001b[0mself\u001b[0m\u001b[1;33m.\u001b[0m\u001b[0mphone_number\u001b[0m\u001b[1;33m,\u001b[0m \u001b[1;34m'/n gender = '\u001b[0m \u001b[1;33m+\u001b[0m \u001b[0mself\u001b[0m\u001b[1;33m.\u001b[0m\u001b[0mgender\u001b[0m\u001b[1;33m,\u001b[0m \u001b[1;34m'/n email ='\u001b[0m \u001b[1;33m+\u001b[0m\u001b[0mself\u001b[0m\u001b[1;33m.\u001b[0m\u001b[0memail\u001b[0m\u001b[1;33m)\u001b[0m\u001b[1;33m\u001b[0m\u001b[1;33m\u001b[0m\u001b[0m\n\u001b[0m\u001b[0;32m     21\u001b[0m \u001b[1;33m\u001b[0m\u001b[0m\n\u001b[0;32m     22\u001b[0m \u001b[1;33m\u001b[0m\u001b[0m\n",
      "\u001b[1;31mTypeError\u001b[0m: can only concatenate str (not \"datetime.datetime\") to str"
     ]
    }
   ],
   "source": [
    "emp.emp_personal_info()"
   ]
  },
  {
   "cell_type": "code",
   "execution_count": 15,
   "metadata": {},
   "outputs": [
    {
     "name": "stdout",
     "output_type": "stream",
     "text": [
      "Your New Salary Is =  13800.0\n"
     ]
    }
   ],
   "source": [
    "emp.salary_hike()"
   ]
  },
  {
   "cell_type": "markdown",
   "metadata": {},
   "source": []
  },
  {
   "cell_type": "markdown",
   "metadata": {},
   "source": []
  }
 ],
 "metadata": {
  "interpreter": {
   "hash": "b3ba2566441a7c06988d0923437866b63cedc61552a5af99d1f4fb67d367b25f"
  },
  "kernelspec": {
   "display_name": "Python 3.9.7 ('base')",
   "language": "python",
   "name": "python3"
  },
  "language_info": {
   "codemirror_mode": {
    "name": "ipython",
    "version": 3
   },
   "file_extension": ".py",
   "mimetype": "text/x-python",
   "name": "python",
   "nbconvert_exporter": "python",
   "pygments_lexer": "ipython3",
   "version": "3.9.7"
  },
  "orig_nbformat": 4
 },
 "nbformat": 4,
 "nbformat_minor": 2
}
