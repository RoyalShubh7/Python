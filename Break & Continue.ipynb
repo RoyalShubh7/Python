{
 "cells": [
  {
   "cell_type": "code",
   "execution_count": 13,
   "metadata": {},
   "outputs": [
    {
     "name": "stdout",
     "output_type": "stream",
     "text": [
      "25\n",
      "45\n",
      "60\n"
     ]
    }
   ],
   "source": [
    "for val in [10,20,25,5,45,60]:\n",
    "    if val<25:\n",
    "        continue\n",
    "    print(val)"
   ]
  },
  {
   "cell_type": "code",
   "execution_count": 26,
   "metadata": {},
   "outputs": [
    {
     "name": "stdout",
     "output_type": "stream",
     "text": [
      "60\n",
      "42\n",
      "32\n",
      "5\n",
      "2\n",
      "6\n",
      "85\n",
      "50\n",
      "14\n",
      "55\n"
     ]
    }
   ],
   "source": [
    "for val in [60,42,32,5,2,6,85,50,14,55]:\n",
    "    if val>86:\n",
    "        break\n",
    "    print(val)"
   ]
  },
  {
   "cell_type": "code",
   "execution_count": 40,
   "metadata": {},
   "outputs": [
    {
     "name": "stdout",
     "output_type": "stream",
     "text": [
      "s\n",
      "s\n",
      "t\n",
      "t\n",
      "r\n",
      "r\n",
      "n\n",
      "n\n",
      "g\n",
      "g\n",
      "e\n",
      "e\n",
      "the end\n"
     ]
    }
   ],
   "source": [
    "for val in \"stringexample\":\n",
    "    if val ==\"i\":\n",
    "        continue\n",
    "    else:\n",
    "        if val==\"x\":\n",
    "             break\n",
    "        print(val)\n",
    "    print(val)\n",
    "\n",
    "print(\"the end\")"
   ]
  },
  {
   "cell_type": "code",
   "execution_count": null,
   "metadata": {},
   "outputs": [],
   "source": []
  }
 ],
 "metadata": {
  "interpreter": {
   "hash": "b3ba2566441a7c06988d0923437866b63cedc61552a5af99d1f4fb67d367b25f"
  },
  "kernelspec": {
   "display_name": "Python 3.9.7 ('base')",
   "language": "python",
   "name": "python3"
  },
  "language_info": {
   "codemirror_mode": {
    "name": "ipython",
    "version": 3
   },
   "file_extension": ".py",
   "mimetype": "text/x-python",
   "name": "python",
   "nbconvert_exporter": "python",
   "pygments_lexer": "ipython3",
   "version": "3.9.7"
  },
  "orig_nbformat": 4
 },
 "nbformat": 4,
 "nbformat_minor": 2
}
