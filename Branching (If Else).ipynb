{
 "cells": [
  {
   "cell_type": "code",
   "execution_count": 1,
   "id": "cbb76ec2",
   "metadata": {},
   "outputs": [
    {
     "name": "stdout",
     "output_type": "stream",
     "text": [
      "A is smaller than B\n"
     ]
    }
   ],
   "source": [
    "a=30\n",
    "b=50\n",
    "if a>b:\n",
    "    print(\"A is greater than B\")\n",
    "else:\n",
    "    print(\"A is smaller than B\")\n",
    "\n",
    "\n",
    "\n",
    "    "
   ]
  },
  {
   "cell_type": "code",
   "execution_count": 13,
   "id": "0b9950a8",
   "metadata": {},
   "outputs": [
    {
     "name": "stdout",
     "output_type": "stream",
     "text": [
      "5 is less than 4!\n"
     ]
    }
   ],
   "source": [
    "a=5\n",
    "if a>4:\n",
    "    print(\"5 is less than 4!\")\n",
    "elif (a==6):\n",
    "    print(\"A is not equal to 6\")\n",
    "else:\n",
    "    print(\"5 is greater than 3\")\n",
    "\n",
    "\n",
    "\n",
    "    "
   ]
  },
  {
   "cell_type": "code",
   "execution_count": 2,
   "id": "2d0d2baa",
   "metadata": {},
   "outputs": [
    {
     "name": "stdout",
     "output_type": "stream",
     "text": [
      "i is 50\n"
     ]
    }
   ],
   "source": [
    "i=50\n",
    "if (i==20):\n",
    "    print('i is 20')\n",
    "elif (i==40):\n",
    "    print('i is 40')\n",
    "elif (i==45):\n",
    "    print('i is 45')\n",
    "else:\n",
    "    print('i is 50')"
   ]
  },
  {
   "cell_type": "code",
   "execution_count": 6,
   "id": "41b1440f",
   "metadata": {},
   "outputs": [
    {
     "name": "stdout",
     "output_type": "stream",
     "text": [
      "integer equal or above 20\n",
      "and also above 10!\n"
     ]
    }
   ],
   "source": [
    "x=50\n",
    "if (x<70):\n",
    "    print('integer equal or above 20')\n",
    "if (x>40):\n",
    "    print('and also above 10!')\n",
    "else:\n",
    "    print('but not above 10')"
   ]
  },
  {
   "cell_type": "code",
   "execution_count": 7,
   "id": "f6ee79b6",
   "metadata": {},
   "outputs": [
    {
     "name": "stdout",
     "output_type": "stream",
     "text": [
      "Both the conditions are FALSE\n"
     ]
    }
   ],
   "source": [
    "a=100\n",
    "b=200\n",
    "c=500\n",
    "if (a>b and b>c):\n",
    "    print('Both the conditions are TRUE')\n",
    "else:\n",
    "    print('Both the conditions are FALSE')"
   ]
  },
  {
   "cell_type": "code",
   "execution_count": 10,
   "id": "8306e28f",
   "metadata": {},
   "outputs": [
    {
     "name": "stdout",
     "output_type": "stream",
     "text": [
      "A not equal to B, B not equal to c But A==C\n"
     ]
    }
   ],
   "source": [
    "a=40\n",
    "b=50\n",
    "c=40\n",
    "print('A=C')if a<c else print('A not equal to B, B not equal to c But A==C')"
   ]
  },
  {
   "cell_type": "code",
   "execution_count": 1,
   "id": "8863f1aa",
   "metadata": {},
   "outputs": [
    {
     "name": "stdout",
     "output_type": "stream",
     "text": [
      "hello\n"
     ]
    }
   ],
   "source": [
    "print(\"hello\")"
   ]
  },
  {
   "cell_type": "code",
   "execution_count": null,
   "id": "c388616f",
   "metadata": {},
   "outputs": [],
   "source": []
  }
 ],
 "metadata": {
  "kernelspec": {
   "display_name": "Python 3 (ipykernel)",
   "language": "python",
   "name": "python3"
  },
  "language_info": {
   "codemirror_mode": {
    "name": "ipython",
    "version": 3
   },
   "file_extension": ".py",
   "mimetype": "text/x-python",
   "name": "python",
   "nbconvert_exporter": "python",
   "pygments_lexer": "ipython3",
   "version": "3.8.9"
  }
 },
 "nbformat": 4,
 "nbformat_minor": 5
}
